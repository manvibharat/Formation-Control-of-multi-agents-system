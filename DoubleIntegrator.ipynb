{
 "cells": [
  {
   "cell_type": "markdown",
   "metadata": {},
   "source": [
    "# Double Integrator Model"
   ]
  },
  {
   "cell_type": "markdown",
   "metadata": {},
   "source": [
    "$$\\dot{q} = u$$ \n",
    "$$ \\dot{v}_i = u_i \\text{  } i=1,\\dots,n$$\n",
    "where $q_i$ is postion and $v_i$ is velocity. \n",
    "\n",
    "$$\\dot{e}_{ij} = \\frac{\\tilde{q}_{ij}^\\top(v_i-v_j)}{e_{ij}+d_{ij}}$$\n",
    " $$\\dot{W} = \\frac{1}{2} z^\\top \\dot{z} = z^\\top R(\\tilde{q})v$$ \n",
    " \n",
    " Using backstepping tecqnique to change the Lyapunov function. Let\n",
    "$$s=v-v_f$$\n",
    "\n",
    "where $v_f$ is fictitious (or desired) velocity input, which will\n",
    "be specified later. The variable s quantifies the error between the actual agent velocity and the desired velocity-level input.\n",
    "\n",
    "\n",
    "$$W_d(e,s) = W(e) + \\frac{1}{2}s^\\top s$$ \n",
    "\n",
    "is the augmented Lyapunov function candidate,\n",
    "$$\\dot{W} = z^\\top R(\\tilde{q})v + s^\\top \\dot{s}$$ \n",
    "$$ = z^\\top R(\\tilde{q})(s+v_f) + s^\\top (u-\\dot{v_f})$$\n",
    "\n"
   ]
  },
  {
   "cell_type": "code",
   "execution_count": 21,
   "metadata": {},
   "outputs": [],
   "source": [
    "\n",
    "using DifferentialEquations, Plots; pyplot();\n",
    "using LinearAlgebra \n",
    "theme(:ggplot2)"
   ]
  },
  {
   "cell_type": "code",
   "execution_count": 22,
   "metadata": {},
   "outputs": [],
   "source": [
    "n = 6;\n",
    "kv = 0.05;\n",
    "ka = 0.1;\n",
    "Adj = [0 1 0 0 0 1;\n",
    "       1 0 1 0 0 1;\n",
    "       0 1 0 1 0 1;\n",
    "       0 0 1 0 1 1;\n",
    "       0 0 0 1 0 1;\n",
    "       1 1 1 1 1 0];\n",
    "\n",
    "d = zeros(n,n); \n",
    "c1 = cos(2*pi/5);\n",
    "c2 = cos(pi/5);\n",
    "s1 = sin(2*pi/5);\n",
    "s2 = sin(4*pi/5);\n",
    "x_coor = [0; -s1; -s2; s2; s1; 0];  \n",
    "y_coor = [1; c1; -c2; -c2; c1; 0];  \n",
    "z_coor = [0.0; 0.0; 0.0; 0.0; 0.0; 0.0];\n",
    "\n",
    "for ii = 1:n\n",
    "    for jj = 1:n\n",
    "        d[ii,jj] = sqrt((x_coor[ii]-x_coor[jj])^2+(y_coor[ii]-y_coor[jj])^2+(z_coor[ii]-z_coor[jj])^2)\n",
    "    end\n",
    "end\n",
    "\n",
    "\n",
    "ub = 0.5;                           # Upper bound for random ini. condition\n",
    "lb = -0.5;                          # Lower bound for random ini. condition\n",
    "tfinal = 4;\n"
   ]
  },
  {
   "cell_type": "code",
   "execution_count": 23,
   "metadata": {},
   "outputs": [],
   "source": [
    "mutable struct para2\n",
    "n\n",
    "kv\n",
    "ka\n",
    "Adj\n",
    "d\n",
    "end"
   ]
  },
  {
   "cell_type": "code",
   "execution_count": 24,
   "metadata": {},
   "outputs": [
    {
     "data": {
      "text/plain": [
       "para2(6, 0.05, 0.1, [0 1 … 0 1; 1 0 … 0 1; … ; 0 0 … 0 1; 1 1 … 1 0], [0.0 1.1755705045849463 … 1.1755705045849463 1.0; 1.1755705045849463 0.0 … 1.902113032590307 0.9999999999999999; … ; 1.1755705045849463 1.902113032590307 … 0.0 0.9999999999999999; 1.0 0.9999999999999999 … 0.9999999999999999 0.0])"
      ]
     },
     "execution_count": 24,
     "metadata": {},
     "output_type": "execute_result"
    }
   ],
   "source": [
    "p2 = para2(n,kv,ka,Adj,d)"
   ]
  },
  {
   "cell_type": "code",
   "execution_count": 30,
   "metadata": {},
   "outputs": [],
   "source": [
    "q_0 = [x_coor y_coor z_coor]'+(lb*ones(3,n)+(ub-lb)*rand(3,n))\n",
    "v_0 = (lb*rand(3,n)+(ub-lb)*rand(3,n))*2\n",
    "qv_0 = [q_0 v_0];\n",
    "qv_0_vec = reshape(qv_0,(1,:));\n",
    "time_span = (0.0,4.0);"
   ]
  },
  {
   "cell_type": "code",
   "execution_count": 32,
   "metadata": {},
   "outputs": [
    {
     "data": {
      "text/plain": [
       "DI_formation (generic function with 1 method)"
      ]
     },
     "execution_count": 32,
     "metadata": {},
     "output_type": "execute_result"
    }
   ],
   "source": [
    "function DI_formation(ddu,u,p,t)\n",
    "    n = p.n\n",
    "    kv = p.kv\n",
    "    ka = p.ka\n",
    "    Adj = p.Adj\n",
    "    d = p.d\n",
    "    \n",
    "    qv = reshape(u,(3,:))\n",
    "    q = qv[:,1:n];\n",
    "    v = qv[:,n+1:2*n];\n",
    "    \n",
    "    z = zeros(3*n-6,1);\n",
    "    R = zeros(3*n-6,3*n);\n",
    "    R_dot  = zeros(3*n-6,3*n);\n",
    "    e = zeros(n,n);\n",
    "    \n",
    "    ord = 1\n",
    "    for i=1:n-1\n",
    "        for j=i+1:n\n",
    "            e[i,j] = sqrt((q[:,i]-q[:,j])'*(q[:,i]-q[:,j]))-d[i,j]\n",
    "            # print(\"i =\",i,\"j=\",j,\"\\n\")\n",
    "            if Adj[i,j] == 1\n",
    "                z[ord] = e[i,j]*(e[i,j]+2*d[i,j]);\n",
    "                R[ord,3*i-2:3*i] = (q[:,i]-q[:,j])';\n",
    "                R[ord,3*j-2:3*j] = (q[:,j]-q[:,i])';\n",
    "                R_dot[ord,3*i-2:3*i] = (v[:,i] - v[:,j])';\n",
    "                R_dot[ord,3*j-2:3*j] = (v[:,j] - v[:,i])';\n",
    "                ord = ord+1;\n",
    "            end\n",
    "        end\n",
    "    end\n",
    "    \n",
    "    v = u[3*n+1:6*n];\n",
    "    ua = -kv*R'*z;\n",
    "    vf = ua;\n",
    "    vfdot = -kv*R_dot'*z-kv*R'*2*R*v;\n",
    "    s = v - vf;\n",
    "    control = -ka*s + vfdot -R'*z;\n",
    "    ddu .= control\n",
    "\n",
    "\n",
    "end\n"
   ]
  },
  {
   "cell_type": "code",
   "execution_count": 33,
   "metadata": {},
   "outputs": [
    {
     "ename": "DimensionMismatch",
     "evalue": "DimensionMismatch(\"array could not be broadcast to match destination\")",
     "output_type": "error",
     "traceback": [
      "DimensionMismatch(\"array could not be broadcast to match destination\")",
      "",
      "Stacktrace:",
      " [1] check_broadcast_shape at ./broadcast.jl:509 [inlined]",
      " [2] check_broadcast_axes at /home/bbm/.julia/packages/DiffEqBase/T5smF/src/diffeqfastbc.jl:26 [inlined]",
      " [3] instantiate at ./broadcast.jl:259 [inlined]",
      " [4] materialize!(::Array{Float64,2}, ::Base.Broadcast.Broadcasted{Base.Broadcast.DefaultArrayStyle{2},Nothing,typeof(identity),Tuple{Array{Float64,2}}}) at ./broadcast.jl:823",
      " [5] DI_formation(::Array{Float64,2}, ::Array{Float64,2}, ::para2, ::Float64) at ./In[32]:39",
      " [6] ODEFunction at /home/bbm/.julia/packages/DiffEqBase/T5smF/src/diffeqfunction.jl:248 [inlined]",
      " [7] initialize!(::OrdinaryDiffEq.ODEIntegrator{CompositeAlgorithm{Tuple{Tsit5,Rosenbrock23{0,false,DefaultLinSolve,DataType}},AutoSwitch{Tsit5,Rosenbrock23{0,false,DefaultLinSolve,DataType},Rational{Int64},Int64}},true,Array{Float64,2},Nothing,Float64,para2,Float64,Float64,Float64,Array{Array{Float64,2},1},OrdinaryDiffEq.ODECompositeSolution{Float64,3,Array{Array{Float64,2},1},Nothing,Nothing,Array{Float64,1},Array{Array{Array{Float64,2},1},1},ODEProblem{Array{Float64,2},Tuple{Float64,Float64},true,para2,ODEFunction{true,typeof(DI_formation),UniformScaling{Bool},Nothing,Nothing,Nothing,Nothing,Nothing,Nothing,Nothing,Nothing,Nothing,Nothing,Nothing,Nothing},Base.Iterators.Pairs{Union{},Union{},Tuple{},NamedTuple{(),Tuple{}}},DiffEqBase.StandardODEProblem},CompositeAlgorithm{Tuple{Tsit5,Rosenbrock23{0,false,DefaultLinSolve,DataType}},AutoSwitch{Tsit5,Rosenbrock23{0,false,DefaultLinSolve,DataType},Rational{Int64},Int64}},OrdinaryDiffEq.CompositeInterpolationData{ODEFunction{true,typeof(DI_formation),UniformScaling{Bool},Nothing,Nothing,Nothing,Nothing,Nothing,Nothing,Nothing,Nothing,Nothing,Nothing,Nothing,Nothing},Array{Array{Float64,2},1},Array{Float64,1},Array{Array{Array{Float64,2},1},1},OrdinaryDiffEq.CompositeCache{Tuple{OrdinaryDiffEq.Tsit5Cache{Array{Float64,2},Array{Float64,2},Array{Float64,2},OrdinaryDiffEq.Tsit5ConstantCache{Float64,Float64}},OrdinaryDiffEq.Rosenbrock23Cache{Array{Float64,2},Array{Float64,2},Array{Float64,2},Array{Float64,2},Array{Float64,2},OrdinaryDiffEq.Rosenbrock23Tableau{Float64},DiffEqBase.TimeGradientWrapper{ODEFunction{true,typeof(DI_formation),UniformScaling{Bool},Nothing,Nothing,Nothing,Nothing,Nothing,Nothing,Nothing,Nothing,Nothing,Nothing,Nothing,Nothing},Array{Float64,2},para2},DiffEqBase.UJacobianWrapper{ODEFunction{true,typeof(DI_formation),UniformScaling{Bool},Nothing,Nothing,Nothing,Nothing,Nothing,Nothing,Nothing,Nothing,Nothing,Nothing,Nothing,Nothing},Float64,para2},DefaultLinSolve,FiniteDiff.JacobianCache{Array{Float64,2},Array{Float64,2},Array{Float64,2},UnitRange{Int64},Nothing,Val{:forward},Float64},FiniteDiff.GradientCache{Nothing,Array{Float64,2},Array{Float64,2},Float64,Val{:forward},Float64,Val{true}}}},AutoSwitch{Tsit5,Rosenbrock23{0,false,DefaultLinSolve,DataType},Rational{Int64},Int64}}},DiffEqBase.DEStats},ODEFunction{true,typeof(DI_formation),UniformScaling{Bool},Nothing,Nothing,Nothing,Nothing,Nothing,Nothing,Nothing,Nothing,Nothing,Nothing,Nothing,Nothing},OrdinaryDiffEq.CompositeCache{Tuple{OrdinaryDiffEq.Tsit5Cache{Array{Float64,2},Array{Float64,2},Array{Float64,2},OrdinaryDiffEq.Tsit5ConstantCache{Float64,Float64}},OrdinaryDiffEq.Rosenbrock23Cache{Array{Float64,2},Array{Float64,2},Array{Float64,2},Array{Float64,2},Array{Float64,2},OrdinaryDiffEq.Rosenbrock23Tableau{Float64},DiffEqBase.TimeGradientWrapper{ODEFunction{true,typeof(DI_formation),UniformScaling{Bool},Nothing,Nothing,Nothing,Nothing,Nothing,Nothing,Nothing,Nothing,Nothing,Nothing,Nothing,Nothing},Array{Float64,2},para2},DiffEqBase.UJacobianWrapper{ODEFunction{true,typeof(DI_formation),UniformScaling{Bool},Nothing,Nothing,Nothing,Nothing,Nothing,Nothing,Nothing,Nothing,Nothing,Nothing,Nothing,Nothing},Float64,para2},DefaultLinSolve,FiniteDiff.JacobianCache{Array{Float64,2},Array{Float64,2},Array{Float64,2},UnitRange{Int64},Nothing,Val{:forward},Float64},FiniteDiff.GradientCache{Nothing,Array{Float64,2},Array{Float64,2},Float64,Val{:forward},Float64,Val{true}}}},AutoSwitch{Tsit5,Rosenbrock23{0,false,DefaultLinSolve,DataType},Rational{Int64},Int64}},OrdinaryDiffEq.DEOptions{Float64,Float64,Float64,Float64,typeof(DiffEqBase.ODE_DEFAULT_NORM),typeof(opnorm),CallbackSet{Tuple{},Tuple{}},typeof(DiffEqBase.ODE_DEFAULT_ISOUTOFDOMAIN),typeof(DiffEqBase.ODE_DEFAULT_PROG_MESSAGE),typeof(DiffEqBase.ODE_DEFAULT_UNSTABLE_CHECK),DataStructures.BinaryHeap{Float64,DataStructures.LessThan},DataStructures.BinaryHeap{Float64,DataStructures.LessThan},Nothing,Nothing,Int64,Tuple{},Float64,Tuple{}},Array{Float64,2},Float64,Nothing,OrdinaryDiffEq.DefaultInit}, ::OrdinaryDiffEq.Tsit5Cache{Array{Float64,2},Array{Float64,2},Array{Float64,2},OrdinaryDiffEq.Tsit5ConstantCache{Float64,Float64}}) at /home/bbm/.julia/packages/OrdinaryDiffEq/tVsYE/src/perform_step/low_order_rk_perform_step.jl:623",
      " [8] initialize!(::OrdinaryDiffEq.ODEIntegrator{CompositeAlgorithm{Tuple{Tsit5,Rosenbrock23{0,false,DefaultLinSolve,DataType}},AutoSwitch{Tsit5,Rosenbrock23{0,false,DefaultLinSolve,DataType},Rational{Int64},Int64}},true,Array{Float64,2},Nothing,Float64,para2,Float64,Float64,Float64,Array{Array{Float64,2},1},OrdinaryDiffEq.ODECompositeSolution{Float64,3,Array{Array{Float64,2},1},Nothing,Nothing,Array{Float64,1},Array{Array{Array{Float64,2},1},1},ODEProblem{Array{Float64,2},Tuple{Float64,Float64},true,para2,ODEFunction{true,typeof(DI_formation),UniformScaling{Bool},Nothing,Nothing,Nothing,Nothing,Nothing,Nothing,Nothing,Nothing,Nothing,Nothing,Nothing,Nothing},Base.Iterators.Pairs{Union{},Union{},Tuple{},NamedTuple{(),Tuple{}}},DiffEqBase.StandardODEProblem},CompositeAlgorithm{Tuple{Tsit5,Rosenbrock23{0,false,DefaultLinSolve,DataType}},AutoSwitch{Tsit5,Rosenbrock23{0,false,DefaultLinSolve,DataType},Rational{Int64},Int64}},OrdinaryDiffEq.CompositeInterpolationData{ODEFunction{true,typeof(DI_formation),UniformScaling{Bool},Nothing,Nothing,Nothing,Nothing,Nothing,Nothing,Nothing,Nothing,Nothing,Nothing,Nothing,Nothing},Array{Array{Float64,2},1},Array{Float64,1},Array{Array{Array{Float64,2},1},1},OrdinaryDiffEq.CompositeCache{Tuple{OrdinaryDiffEq.Tsit5Cache{Array{Float64,2},Array{Float64,2},Array{Float64,2},OrdinaryDiffEq.Tsit5ConstantCache{Float64,Float64}},OrdinaryDiffEq.Rosenbrock23Cache{Array{Float64,2},Array{Float64,2},Array{Float64,2},Array{Float64,2},Array{Float64,2},OrdinaryDiffEq.Rosenbrock23Tableau{Float64},DiffEqBase.TimeGradientWrapper{ODEFunction{true,typeof(DI_formation),UniformScaling{Bool},Nothing,Nothing,Nothing,Nothing,Nothing,Nothing,Nothing,Nothing,Nothing,Nothing,Nothing,Nothing},Array{Float64,2},para2},DiffEqBase.UJacobianWrapper{ODEFunction{true,typeof(DI_formation),UniformScaling{Bool},Nothing,Nothing,Nothing,Nothing,Nothing,Nothing,Nothing,Nothing,Nothing,Nothing,Nothing,Nothing},Float64,para2},DefaultLinSolve,FiniteDiff.JacobianCache{Array{Float64,2},Array{Float64,2},Array{Float64,2},UnitRange{Int64},Nothing,Val{:forward},Float64},FiniteDiff.GradientCache{Nothing,Array{Float64,2},Array{Float64,2},Float64,Val{:forward},Float64,Val{true}}}},AutoSwitch{Tsit5,Rosenbrock23{0,false,DefaultLinSolve,DataType},Rational{Int64},Int64}}},DiffEqBase.DEStats},ODEFunction{true,typeof(DI_formation),UniformScaling{Bool},Nothing,Nothing,Nothing,Nothing,Nothing,Nothing,Nothing,Nothing,Nothing,Nothing,Nothing,Nothing},OrdinaryDiffEq.CompositeCache{Tuple{OrdinaryDiffEq.Tsit5Cache{Array{Float64,2},Array{Float64,2},Array{Float64,2},OrdinaryDiffEq.Tsit5ConstantCache{Float64,Float64}},OrdinaryDiffEq.Rosenbrock23Cache{Array{Float64,2},Array{Float64,2},Array{Float64,2},Array{Float64,2},Array{Float64,2},OrdinaryDiffEq.Rosenbrock23Tableau{Float64},DiffEqBase.TimeGradientWrapper{ODEFunction{true,typeof(DI_formation),UniformScaling{Bool},Nothing,Nothing,Nothing,Nothing,Nothing,Nothing,Nothing,Nothing,Nothing,Nothing,Nothing,Nothing},Array{Float64,2},para2},DiffEqBase.UJacobianWrapper{ODEFunction{true,typeof(DI_formation),UniformScaling{Bool},Nothing,Nothing,Nothing,Nothing,Nothing,Nothing,Nothing,Nothing,Nothing,Nothing,Nothing,Nothing},Float64,para2},DefaultLinSolve,FiniteDiff.JacobianCache{Array{Float64,2},Array{Float64,2},Array{Float64,2},UnitRange{Int64},Nothing,Val{:forward},Float64},FiniteDiff.GradientCache{Nothing,Array{Float64,2},Array{Float64,2},Float64,Val{:forward},Float64,Val{true}}}},AutoSwitch{Tsit5,Rosenbrock23{0,false,DefaultLinSolve,DataType},Rational{Int64},Int64}},OrdinaryDiffEq.DEOptions{Float64,Float64,Float64,Float64,typeof(DiffEqBase.ODE_DEFAULT_NORM),typeof(opnorm),CallbackSet{Tuple{},Tuple{}},typeof(DiffEqBase.ODE_DEFAULT_ISOUTOFDOMAIN),typeof(DiffEqBase.ODE_DEFAULT_PROG_MESSAGE),typeof(DiffEqBase.ODE_DEFAULT_UNSTABLE_CHECK),DataStructures.BinaryHeap{Float64,DataStructures.LessThan},DataStructures.BinaryHeap{Float64,DataStructures.LessThan},Nothing,Nothing,Int64,Tuple{},Float64,Tuple{}},Array{Float64,2},Float64,Nothing,OrdinaryDiffEq.DefaultInit}, ::OrdinaryDiffEq.CompositeCache{Tuple{OrdinaryDiffEq.Tsit5Cache{Array{Float64,2},Array{Float64,2},Array{Float64,2},OrdinaryDiffEq.Tsit5ConstantCache{Float64,Float64}},OrdinaryDiffEq.Rosenbrock23Cache{Array{Float64,2},Array{Float64,2},Array{Float64,2},Array{Float64,2},Array{Float64,2},OrdinaryDiffEq.Rosenbrock23Tableau{Float64},DiffEqBase.TimeGradientWrapper{ODEFunction{true,typeof(DI_formation),UniformScaling{Bool},Nothing,Nothing,Nothing,Nothing,Nothing,Nothing,Nothing,Nothing,Nothing,Nothing,Nothing,Nothing},Array{Float64,2},para2},DiffEqBase.UJacobianWrapper{ODEFunction{true,typeof(DI_formation),UniformScaling{Bool},Nothing,Nothing,Nothing,Nothing,Nothing,Nothing,Nothing,Nothing,Nothing,Nothing,Nothing,Nothing},Float64,para2},DefaultLinSolve,FiniteDiff.JacobianCache{Array{Float64,2},Array{Float64,2},Array{Float64,2},UnitRange{Int64},Nothing,Val{:forward},Float64},FiniteDiff.GradientCache{Nothing,Array{Float64,2},Array{Float64,2},Float64,Val{:forward},Float64,Val{true}}}},AutoSwitch{Tsit5,Rosenbrock23{0,false,DefaultLinSolve,DataType},Rational{Int64},Int64}}) at /home/bbm/.julia/packages/OrdinaryDiffEq/tVsYE/src/perform_step/composite_perform_step.jl:38",
      " [9] __init(::ODEProblem{Array{Float64,2},Tuple{Float64,Float64},true,para2,ODEFunction{true,typeof(DI_formation),UniformScaling{Bool},Nothing,Nothing,Nothing,Nothing,Nothing,Nothing,Nothing,Nothing,Nothing,Nothing,Nothing,Nothing},Base.Iterators.Pairs{Union{},Union{},Tuple{},NamedTuple{(),Tuple{}}},DiffEqBase.StandardODEProblem}, ::CompositeAlgorithm{Tuple{Tsit5,Rosenbrock23{0,false,DefaultLinSolve,DataType}},AutoSwitch{Tsit5,Rosenbrock23{0,false,DefaultLinSolve,DataType},Rational{Int64},Int64}}, ::Tuple{}, ::Tuple{}, ::Tuple{}, ::Type{Val{true}}; saveat::Float64, tstops::Tuple{}, d_discontinuities::Tuple{}, save_idxs::Nothing, save_everystep::Bool, save_on::Bool, save_start::Bool, save_end::Bool, callback::Nothing, dense::Bool, calck::Bool, dt::Float64, dtmin::Nothing, dtmax::Float64, force_dtmin::Bool, adaptive::Bool, gamma::Rational{Int64}, abstol::Nothing, reltol::Nothing, qmin::Rational{Int64}, qmax::Int64, qsteady_min::Int64, qsteady_max::Int64, qoldinit::Rational{Int64}, fullnormalize::Bool, failfactor::Int64, beta1::Nothing, beta2::Nothing, maxiters::Int64, internalnorm::typeof(DiffEqBase.ODE_DEFAULT_NORM), internalopnorm::typeof(opnorm), isoutofdomain::typeof(DiffEqBase.ODE_DEFAULT_ISOUTOFDOMAIN), unstable_check::typeof(DiffEqBase.ODE_DEFAULT_UNSTABLE_CHECK), verbose::Bool, timeseries_errors::Bool, dense_errors::Bool, advance_to_tstop::Bool, stop_at_next_tstop::Bool, initialize_save::Bool, progress::Bool, progress_steps::Int64, progress_name::String, progress_message::typeof(DiffEqBase.ODE_DEFAULT_PROG_MESSAGE), userdata::Nothing, allow_extrapolation::Bool, initialize_integrator::Bool, alias_u0::Bool, alias_du0::Bool, initializealg::OrdinaryDiffEq.DefaultInit, kwargs::Base.Iterators.Pairs{Symbol,Bool,Tuple{Symbol,Symbol},NamedTuple{(:default_set, :second_time),Tuple{Bool,Bool}}}) at /home/bbm/.julia/packages/OrdinaryDiffEq/tVsYE/src/solve.jl:403",
      " [10] __solve(::ODEProblem{Array{Float64,2},Tuple{Float64,Float64},true,para2,ODEFunction{true,typeof(DI_formation),UniformScaling{Bool},Nothing,Nothing,Nothing,Nothing,Nothing,Nothing,Nothing,Nothing,Nothing,Nothing,Nothing,Nothing},Base.Iterators.Pairs{Union{},Union{},Tuple{},NamedTuple{(),Tuple{}}},DiffEqBase.StandardODEProblem}, ::CompositeAlgorithm{Tuple{Tsit5,Rosenbrock23{0,false,DefaultLinSolve,DataType}},AutoSwitch{Tsit5,Rosenbrock23{0,false,DefaultLinSolve,DataType},Rational{Int64},Int64}}; kwargs::Base.Iterators.Pairs{Symbol,Real,Tuple{Symbol,Symbol,Symbol},NamedTuple{(:default_set, :second_time, :saveat),Tuple{Bool,Bool,Float64}}}) at /home/bbm/.julia/packages/OrdinaryDiffEq/tVsYE/src/solve.jl:4",
      " [11] __solve(::ODEProblem{Array{Float64,2},Tuple{Float64,Float64},true,para2,ODEFunction{true,typeof(DI_formation),UniformScaling{Bool},Nothing,Nothing,Nothing,Nothing,Nothing,Nothing,Nothing,Nothing,Nothing,Nothing,Nothing,Nothing},Base.Iterators.Pairs{Union{},Union{},Tuple{},NamedTuple{(),Tuple{}}},DiffEqBase.StandardODEProblem}, ::Nothing; default_set::Bool, kwargs::Base.Iterators.Pairs{Symbol,Real,Tuple{Symbol,Symbol},NamedTuple{(:second_time, :saveat),Tuple{Bool,Float64}}}) at /home/bbm/.julia/packages/DifferentialEquations/fpohE/src/default_solve.jl:7",
      " [12] #__solve#471 at /home/bbm/.julia/packages/DiffEqBase/T5smF/src/solve.jl:258 [inlined]",
      " [13] solve_call(::ODEProblem{Array{Float64,2},Tuple{Float64,Float64},true,para2,ODEFunction{true,typeof(DI_formation),UniformScaling{Bool},Nothing,Nothing,Nothing,Nothing,Nothing,Nothing,Nothing,Nothing,Nothing,Nothing,Nothing,Nothing},Base.Iterators.Pairs{Union{},Union{},Tuple{},NamedTuple{(),Tuple{}}},DiffEqBase.StandardODEProblem}; merge_callbacks::Bool, kwargs::Base.Iterators.Pairs{Symbol,Float64,Tuple{Symbol},NamedTuple{(:saveat,),Tuple{Float64}}}) at /home/bbm/.julia/packages/DiffEqBase/T5smF/src/solve.jl:92",
      " [14] #solve_up#461 at /home/bbm/.julia/packages/DiffEqBase/T5smF/src/solve.jl:117 [inlined]",
      " [15] #solve#460 at /home/bbm/.julia/packages/DiffEqBase/T5smF/src/solve.jl:102 [inlined]",
      " [16] top-level scope at In[33]:2"
     ]
    }
   ],
   "source": [
    "prob3 = ODEProblem(DI_formation,qv_0_vec,time_span,p2)\n",
    "\n",
    "sol3 = solve(prob3,saveat=0.1)\n",
    "\n",
    "pos3 = sol3.u"
   ]
  },
  {
   "cell_type": "code",
   "execution_count": null,
   "metadata": {},
   "outputs": [],
   "source": []
  }
 ],
 "metadata": {
  "kernelspec": {
   "display_name": "Julia 1.4.2",
   "language": "julia",
   "name": "julia-1.4"
  },
  "language_info": {
   "file_extension": ".jl",
   "mimetype": "application/julia",
   "name": "julia",
   "version": "1.4.2"
  }
 },
 "nbformat": 4,
 "nbformat_minor": 2
}
